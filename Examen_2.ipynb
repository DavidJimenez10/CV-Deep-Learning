{
  "nbformat": 4,
  "nbformat_minor": 0,
  "metadata": {
    "colab": {
      "provenance": [],
      "authorship_tag": "ABX9TyNvNr+/lALG8wCdk3ptza0E",
      "include_colab_link": true
    },
    "kernelspec": {
      "name": "python3",
      "display_name": "Python 3"
    },
    "language_info": {
      "name": "python"
    },
    "accelerator": "GPU",
    "gpuClass": "standard"
  },
  "cells": [
    {
      "cell_type": "markdown",
      "metadata": {
        "id": "view-in-github",
        "colab_type": "text"
      },
      "source": [
        "<a href=\"https://colab.research.google.com/github/DavidJimenez10/CV-Deep-Learning/blob/main/Examen_2.ipynb\" target=\"_parent\"><img src=\"https://colab.research.google.com/assets/colab-badge.svg\" alt=\"Open In Colab\"/></a>"
      ]
    },
    {
      "cell_type": "markdown",
      "source": [
        "# ANOMALIAS EN MNIST"
      ],
      "metadata": {
        "id": "JP0G5K2cPYt1"
      }
    },
    {
      "cell_type": "code",
      "execution_count": null,
      "metadata": {
        "id": "qPZ_n31C7qs6"
      },
      "outputs": [],
      "source": [
        "import matplotlib.pyplot as plt\n",
        "import numpy as np\n",
        "import pandas as pd\n",
        "import tensorflow as tf\n",
        "\n",
        "from sklearn.metrics import accuracy_score, precision_score, recall_score\n",
        "from sklearn.model_selection import train_test_split\n",
        "from tensorflow.keras import layers, losses\n",
        "from tensorflow.keras.datasets import mnist,fashion_mnist\n",
        "from tensorflow.keras.models import Model\n",
        "from tensorflow.keras.layers import Input,Flatten, Dense, Reshape,Conv2D,MaxPooling2D,Conv2DTranspose"
      ]
    },
    {
      "cell_type": "code",
      "source": [
        "(x_train, _), (x_test, _) = mnist.load_data()\n",
        "\n",
        "# Normalizar los datos\n",
        "x_train = x_train.astype('float32')/255.\n",
        "x_test = x_test.astype('float32')/255.\n",
        "\n",
        "train_data= np.reshape(x_train, (len(x_train), 28, 28, 1))\n",
        "test_data= np.reshape(x_test, (len(x_test), 28, 28, 1))\n",
        "print (train_data.shape)\n",
        "print (test_data.shape)"
      ],
      "metadata": {
        "colab": {
          "base_uri": "https://localhost:8080/"
        },
        "id": "mPJ62IKt7zYx",
        "outputId": "8b41ea33-44a4-4dfe-8bf6-aa4f3b4ab6dd"
      },
      "execution_count": null,
      "outputs": [
        {
          "output_type": "stream",
          "name": "stdout",
          "text": [
            "(60000, 28, 28, 1)\n",
            "(10000, 28, 28, 1)\n"
          ]
        }
      ]
    },
    {
      "cell_type": "code",
      "source": [
        "noisy_array = train_data + 0.3 * np.random.normal(loc=0.0, scale=1.0, size=train_data.shape)\n",
        "noisy_train_data=np.clip(noisy_array, 0.0, 1.0)"
      ],
      "metadata": {
        "id": "p-O4mx2s8lHf"
      },
      "execution_count": null,
      "outputs": []
    },
    {
      "cell_type": "code",
      "source": [
        "noisy_array = test_data + 0.3 * np.random.normal(loc=0.0, scale=1.0, size=test_data.shape)\n",
        "noisy_test_data=np.clip(noisy_array, 0.0, 1.0)"
      ],
      "metadata": {
        "id": "7CJSwUMV8NcB"
      },
      "execution_count": null,
      "outputs": []
    },
    {
      "cell_type": "code",
      "source": [
        "sample_noisy_test = noisy_test_data[1000:1100]\n",
        "sample_test_data = test_data[1000:1100]\n",
        "final_test = np.vstack((sample_test_data,sample_noisy_test))\n",
        "final_test.shape"
      ],
      "metadata": {
        "colab": {
          "base_uri": "https://localhost:8080/"
        },
        "id": "7VGGb8RaFqUd",
        "outputId": "99984c93-28e4-42b8-ea99-c8ca1436b5e3"
      },
      "execution_count": null,
      "outputs": [
        {
          "output_type": "execute_result",
          "data": {
            "text/plain": [
              "(200, 28, 28, 1)"
            ]
          },
          "metadata": {},
          "execution_count": 123
        }
      ]
    },
    {
      "cell_type": "code",
      "source": [
        "indices = np.random.randint(len(train_data), size=10)\n",
        "images1 = train_data[indices, :]\n",
        "images2 = noisy_train_data[indices, :]\n",
        "plt.figure(figsize=(20, 4))\n",
        "for i, (images1, images2) in enumerate(zip(images1, images2)):\n",
        "  ax = plt.subplot(2, 10, i + 1)\n",
        "  plt.imshow(images1.reshape(28, 28),)\n",
        "  ax.get_xaxis().set_visible(False)\n",
        "  ax.get_yaxis().set_visible(False)\n",
        "  ax = plt.subplot(2, 10, i + 1 + 10)\n",
        "  plt.imshow(images2.reshape(28, 28))\n",
        "  ax.get_xaxis().set_visible(False)\n",
        "  ax.get_yaxis().set_visible(False)\n",
        "\n",
        "plt.show()\n",
        "\n"
      ],
      "metadata": {
        "colab": {
          "base_uri": "https://localhost:8080/",
          "height": 248
        },
        "id": "9TOuTji48QJI",
        "outputId": "c8ca9373-997f-442d-9309-39ee449dea93"
      },
      "execution_count": null,
      "outputs": [
        {
          "output_type": "display_data",
          "data": {
            "text/plain": [
              "<Figure size 1440x288 with 20 Axes>"
            ],
            "image/png": "[encoded data removed]"
          },
          "metadata": {
            "needs_background": "light"
          }
        }
      ]
    },
    {
      "cell_type": "code",
      "source": [
        "input = layers.Input(shape=(28, 28, 1))\n",
        "\n",
        "# Encoder\n",
        "encoder = layers.Conv2D(32, (3, 3), activation=\"relu\", padding=\"same\")(input)\n",
        "encoder = layers.MaxPooling2D((2, 2), padding=\"same\")(encoder)\n",
        "encoder = layers.Conv2D(16, (3, 3), activation=\"relu\", padding=\"same\")(encoder)\n",
        "encoder = layers.MaxPooling2D((2, 2), padding=\"same\")(encoder)\n",
        "\n",
        "# Decoder\n",
        "decoder = layers.Conv2DTranspose(16, (3, 3), strides=2, activation=\"relu\", padding=\"same\")(encoder)\n",
        "decoder = layers.Conv2DTranspose(32, (3, 3), strides=2, activation=\"relu\", padding=\"same\")(decoder)\n",
        "decoder = layers.Conv2D(1, (3, 3), activation=\"sigmoid\", padding=\"same\")(decoder)\n",
        "\n",
        "# Autoencoder\n",
        "autoencoder = Model(input, decoder)\n",
        "autoencoder.compile(optimizer=\"adam\", loss=\"binary_crossentropy\")\n",
        "autoencoder.summary()\n",
        "\n"
      ],
      "metadata": {
        "colab": {
          "base_uri": "https://localhost:8080/"
        },
        "id": "Gti3p_cE8nRy",
        "outputId": "3d79816c-a431-43f8-c0fe-804a05768517"
      },
      "execution_count": null,
      "outputs": [
        {
          "output_type": "stream",
          "name": "stdout",
          "text": [
            "Model: \"model\"\n",
            "_________________________________________________________________\n",
            " Layer (type)                Output Shape              Param #   \n",
            "=================================================================\n",
            " input_1 (InputLayer)        [(None, 28, 28, 1)]       0         \n",
            "                                                                 \n",
            " conv2d (Conv2D)             (None, 28, 28, 32)        320       \n",
            "                                                                 \n",
            " max_pooling2d (MaxPooling2D  (None, 14, 14, 32)       0         \n",
            " )                                                               \n",
            "                                                                 \n",
            " conv2d_1 (Conv2D)           (None, 14, 14, 16)        4624      \n",
            "                                                                 \n",
            " max_pooling2d_1 (MaxPooling  (None, 7, 7, 16)         0         \n",
            " 2D)                                                             \n",
            "                                                                 \n",
            " conv2d_transpose (Conv2DTra  (None, 14, 14, 16)       2320      \n",
            " nspose)                                                         \n",
            "                                                                 \n",
            " conv2d_transpose_1 (Conv2DT  (None, 28, 28, 32)       4640      \n",
            " ranspose)                                                       \n",
            "                                                                 \n",
            " conv2d_2 (Conv2D)           (None, 28, 28, 1)         289       \n",
            "                                                                 \n",
            "=================================================================\n",
            "Total params: 12,193\n",
            "Trainable params: 12,193\n",
            "Non-trainable params: 0\n",
            "_________________________________________________________________\n"
          ]
        }
      ]
    },
    {
      "cell_type": "code",
      "source": [
        "history = autoencoder.fit(\n",
        "    x=train_data,\n",
        "    y=train_data,\n",
        "    epochs=50,\n",
        "    batch_size=128,\n",
        "    shuffle=True,\n",
        "    validation_data=(noisy_test_data, test_data),\n",
        ")"
      ],
      "metadata": {
        "colab": {
          "base_uri": "https://localhost:8080/"
        },
        "id": "rGEbfyzq9bCA",
        "outputId": "6ed56519-757b-4034-dd22-1f31292adb85"
      },
      "execution_count": null,
      "outputs": [
        {
          "output_type": "stream",
          "name": "stdout",
          "text": [
            "Epoch 1/50\n",
            "469/469 [==============================] - 4s 8ms/step - loss: 0.0658 - val_loss: 0.1389\n",
            "Epoch 2/50\n",
            "469/469 [==============================] - 4s 8ms/step - loss: 0.0657 - val_loss: 0.1378\n",
            "Epoch 3/50\n",
            "469/469 [==============================] - 4s 8ms/step - loss: 0.0656 - val_loss: 0.1413\n",
            "Epoch 4/50\n",
            "469/469 [==============================] - 4s 8ms/step - loss: 0.0655 - val_loss: 0.1386\n",
            "Epoch 5/50\n",
            "469/469 [==============================] - 4s 8ms/step - loss: 0.0654 - val_loss: 0.1414\n",
            "Epoch 6/50\n",
            "469/469 [==============================] - 4s 8ms/step - loss: 0.0654 - val_loss: 0.1401\n",
            "Epoch 7/50\n",
            "469/469 [==============================] - 4s 8ms/step - loss: 0.0653 - val_loss: 0.1408\n",
            "Epoch 8/50\n",
            "469/469 [==============================] - 4s 8ms/step - loss: 0.0652 - val_loss: 0.1411\n",
            "Epoch 9/50\n",
            "469/469 [==============================] - 4s 8ms/step - loss: 0.0652 - val_loss: 0.1379\n",
            "Epoch 10/50\n",
            "469/469 [==============================] - 4s 8ms/step - loss: 0.0651 - val_loss: 0.1428\n",
            "Epoch 11/50\n",
            "469/469 [==============================] - 4s 8ms/step - loss: 0.0650 - val_loss: 0.1396\n",
            "Epoch 12/50\n",
            "469/469 [==============================] - 4s 8ms/step - loss: 0.0650 - val_loss: 0.1408\n",
            "Epoch 13/50\n",
            "469/469 [==============================] - 4s 8ms/step - loss: 0.0650 - val_loss: 0.1387\n",
            "Epoch 14/50\n",
            "469/469 [==============================] - 4s 8ms/step - loss: 0.0649 - val_loss: 0.1373\n",
            "Epoch 15/50\n",
            "469/469 [==============================] - 4s 8ms/step - loss: 0.0649 - val_loss: 0.1369\n",
            "Epoch 16/50\n",
            "469/469 [==============================] - 4s 8ms/step - loss: 0.0648 - val_loss: 0.1374\n",
            "Epoch 17/50\n",
            "469/469 [==============================] - 4s 8ms/step - loss: 0.0648 - val_loss: 0.1360\n",
            "Epoch 18/50\n",
            "469/469 [==============================] - 4s 8ms/step - loss: 0.0647 - val_loss: 0.1378\n",
            "Epoch 19/50\n",
            "469/469 [==============================] - 4s 8ms/step - loss: 0.0647 - val_loss: 0.1360\n",
            "Epoch 20/50\n",
            "469/469 [==============================] - 4s 8ms/step - loss: 0.0647 - val_loss: 0.1353\n",
            "Epoch 21/50\n",
            "469/469 [==============================] - 4s 8ms/step - loss: 0.0647 - val_loss: 0.1381\n",
            "Epoch 22/50\n",
            "469/469 [==============================] - 4s 8ms/step - loss: 0.0646 - val_loss: 0.1398\n",
            "Epoch 23/50\n",
            "469/469 [==============================] - 4s 8ms/step - loss: 0.0646 - val_loss: 0.1334\n",
            "Epoch 24/50\n",
            "469/469 [==============================] - 4s 8ms/step - loss: 0.0645 - val_loss: 0.1347\n",
            "Epoch 25/50\n",
            "469/469 [==============================] - 4s 9ms/step - loss: 0.0645 - val_loss: 0.1380\n",
            "Epoch 26/50\n",
            "469/469 [==============================] - 4s 10ms/step - loss: 0.0645 - val_loss: 0.1360\n",
            "Epoch 27/50\n",
            "469/469 [==============================] - 4s 8ms/step - loss: 0.0645 - val_loss: 0.1350\n",
            "Epoch 28/50\n",
            "469/469 [==============================] - 4s 8ms/step - loss: 0.0645 - val_loss: 0.1358\n",
            "Epoch 29/50\n",
            "469/469 [==============================] - 4s 8ms/step - loss: 0.0644 - val_loss: 0.1356\n",
            "Epoch 30/50\n",
            "469/469 [==============================] - 4s 8ms/step - loss: 0.0644 - val_loss: 0.1380\n",
            "Epoch 31/50\n",
            "469/469 [==============================] - 4s 8ms/step - loss: 0.0644 - val_loss: 0.1350\n",
            "Epoch 32/50\n",
            "469/469 [==============================] - 4s 8ms/step - loss: 0.0644 - val_loss: 0.1341\n",
            "Epoch 33/50\n",
            "469/469 [==============================] - 4s 8ms/step - loss: 0.0643 - val_loss: 0.1381\n",
            "Epoch 34/50\n",
            "469/469 [==============================] - 4s 8ms/step - loss: 0.0643 - val_loss: 0.1360\n",
            "Epoch 35/50\n",
            "469/469 [==============================] - 4s 8ms/step - loss: 0.0643 - val_loss: 0.1381\n",
            "Epoch 36/50\n",
            "469/469 [==============================] - 4s 8ms/step - loss: 0.0643 - val_loss: 0.1325\n",
            "Epoch 37/50\n",
            "469/469 [==============================] - 4s 8ms/step - loss: 0.0643 - val_loss: 0.1347\n",
            "Epoch 38/50\n",
            "469/469 [==============================] - 4s 8ms/step - loss: 0.0642 - val_loss: 0.1340\n",
            "Epoch 39/50\n",
            "469/469 [==============================] - 4s 9ms/step - loss: 0.0642 - val_loss: 0.1343\n",
            "Epoch 40/50\n",
            "469/469 [==============================] - 4s 8ms/step - loss: 0.0642 - val_loss: 0.1365\n",
            "Epoch 41/50\n",
            "469/469 [==============================] - 4s 9ms/step - loss: 0.0642 - val_loss: 0.1362\n",
            "Epoch 42/50\n",
            "469/469 [==============================] - 4s 8ms/step - loss: 0.0642 - val_loss: 0.1357\n",
            "Epoch 43/50\n",
            "469/469 [==============================] - 4s 8ms/step - loss: 0.0642 - val_loss: 0.1375\n",
            "Epoch 44/50\n",
            "469/469 [==============================] - 4s 8ms/step - loss: 0.0642 - val_loss: 0.1355\n",
            "Epoch 45/50\n",
            "469/469 [==============================] - 4s 9ms/step - loss: 0.0641 - val_loss: 0.1371\n",
            "Epoch 46/50\n",
            "469/469 [==============================] - 4s 9ms/step - loss: 0.0641 - val_loss: 0.1362\n",
            "Epoch 47/50\n",
            "469/469 [==============================] - 4s 8ms/step - loss: 0.0641 - val_loss: 0.1356\n",
            "Epoch 48/50\n",
            "469/469 [==============================] - 4s 8ms/step - loss: 0.0641 - val_loss: 0.1372\n",
            "Epoch 49/50\n",
            "469/469 [==============================] - 4s 8ms/step - loss: 0.0641 - val_loss: 0.1376\n",
            "Epoch 50/50\n",
            "469/469 [==============================] - 4s 8ms/step - loss: 0.0641 - val_loss: 0.1356\n"
          ]
        }
      ]
    },
    {
      "cell_type": "code",
      "source": [
        "plt.plot(history.history[\"loss\"], label=\"Training Loss\")\n",
        "plt.plot(history.history[\"val_loss\"], label=\"Validation Loss\")\n",
        "plt.legend()"
      ],
      "metadata": {
        "colab": {
          "base_uri": "https://localhost:8080/",
          "height": 282
        },
        "id": "rP9k5LKo920J",
        "outputId": "5e8a7a0a-a4a7-43f6-b149-c01ea32aa86a"
      },
      "execution_count": null,
      "outputs": [
        {
          "output_type": "execute_result",
          "data": {
            "text/plain": [
              "<matplotlib.legend.Legend at 0x7fbc50171fd0>"
            ]
          },
          "metadata": {},
          "execution_count": 8
        },
        {
          "output_type": "display_data",
          "data": {
            "text/plain": [
              "<Figure size 432x288 with 1 Axes>"
            ],
            "image/png": "[encoded data removed]"
          },
          "metadata": {
            "needs_background": "light"
          }
        }
      ]
    },
    {
      "cell_type": "code",
      "source": [
        "reconstructions = autoencoder.predict(noisy_test_data)"
      ],
      "metadata": {
        "id": "PnXMFsOq-OyD"
      },
      "execution_count": null,
      "outputs": []
    },
    {
      "cell_type": "code",
      "source": [
        "reconstructions[0].shape"
      ],
      "metadata": {
        "colab": {
          "base_uri": "https://localhost:8080/"
        },
        "id": "nF8SS87NAAnB",
        "outputId": "4e231376-57f6-4552-b976-d49d34f9cad1"
      },
      "execution_count": null,
      "outputs": [
        {
          "output_type": "execute_result",
          "data": {
            "text/plain": [
              "TensorShape([28, 28, 1])"
            ]
          },
          "metadata": {},
          "execution_count": 20
        }
      ]
    },
    {
      "cell_type": "code",
      "source": [
        "train_data[0].shape"
      ],
      "metadata": {
        "colab": {
          "base_uri": "https://localhost:8080/"
        },
        "id": "jwnnm6W7AR3_",
        "outputId": "eafe68a0-6bdb-4370-9d40-b4cb61ee9736"
      },
      "execution_count": null,
      "outputs": [
        {
          "output_type": "execute_result",
          "data": {
            "text/plain": [
              "(28, 28, 1)"
            ]
          },
          "metadata": {},
          "execution_count": 19
        }
      ]
    },
    {
      "cell_type": "code",
      "source": [
        "diff = test_data[0] - reconstructions[0].numpy()"
      ],
      "metadata": {
        "id": "mfSF7d7r_heb"
      },
      "execution_count": null,
      "outputs": []
    },
    {
      "cell_type": "code",
      "source": [
        "ax = plt.subplot(1, 3, 1)\n",
        "plt.imshow(test_data[0].reshape(28, 28),cmap='gray')\n",
        "ax.get_xaxis().set_visible(False)\n",
        "ax.get_yaxis().set_visible(False)\n",
        "ax = plt.subplot(1, 3, 2)\n",
        "plt.imshow(noisy_test_data[0].reshape(28, 28),cmap='gray')\n",
        "ax.get_xaxis().set_visible(False)\n",
        "ax.get_yaxis().set_visible(False)\n",
        "ax = plt.subplot(1, 3, 3)\n",
        "plt.imshow(diff.reshape(28, 28),cmap='gray')\n",
        "ax.get_xaxis().set_visible(False)\n",
        "ax.get_yaxis().set_visible(False)"
      ],
      "metadata": {
        "colab": {
          "base_uri": "https://localhost:8080/",
          "height": 133
        },
        "id": "om5AGy_8_ZMu",
        "outputId": "24f95269-81a5-4260-fd71-6b1559c4b387"
      },
      "execution_count": null,
      "outputs": [
        {
          "output_type": "display_data",
          "data": {
            "text/plain": [
              "<Figure size 432x288 with 3 Axes>"
            ],
            "image/png": "[encoded data removed]"
          },
          "metadata": {
            "needs_background": "light"
          }
        }
      ]
    },
    {
      "cell_type": "code",
      "source": [
        "train_loss = tf.keras.losses.mae(reconstructions, test_data)\n",
        "mean_loss = np.mean(np.mean(train_loss.numpy(),axis=2),axis=1)\n",
        "plt.hist(mean_loss, bins=50)\n",
        "plt.xlabel('Pérdida del entrenamiento')\n",
        "plt.ylabel('Número de ejemplos')\n",
        "plt.show()"
      ],
      "metadata": {
        "colab": {
          "base_uri": "https://localhost:8080/",
          "height": 279
        },
        "id": "uvvY7atQ_2tn",
        "outputId": "2eb8c652-9cec-41b8-f4c3-dba2319902e6"
      },
      "execution_count": null,
      "outputs": [
        {
          "output_type": "display_data",
          "data": {
            "text/plain": [
              "<Figure size 432x288 with 1 Axes>"
            ],
            "image/png": "[encoded data removed]"
          },
          "metadata": {
            "needs_background": "light"
          }
        }
      ]
    },
    {
      "cell_type": "code",
      "source": [
        "reconstructions = autoencoder(test_data)\n",
        "train_loss = tf.keras.losses.mae(reconstructions, test_data)\n",
        "mean_loss = np.mean(np.mean(train_loss.numpy(),axis=2),axis=1)\n",
        "plt.hist(mean_loss, bins=50)\n",
        "plt.xlabel('Pérdida del entrenamiento')\n",
        "plt.ylabel('Número de ejemplos')\n",
        "plt.show()"
      ],
      "metadata": {
        "colab": {
          "base_uri": "https://localhost:8080/",
          "height": 282
        },
        "id": "e-yKMNBIBg6G",
        "outputId": "4946afdd-9251-475b-8416-0458e1c2dd54"
      },
      "execution_count": null,
      "outputs": [
        {
          "output_type": "display_data",
          "data": {
            "text/plain": [
              "<Figure size 432x288 with 1 Axes>"
            ],
            "image/png": "[encoded data removed]"
          },
          "metadata": {
            "needs_background": "light"
          }
        }
      ]
    },
    {
      "cell_type": "code",
      "source": [
        "diff = test_data[0] - reconstructions[0].numpy()"
      ],
      "metadata": {
        "id": "NPAWvVgYESWc"
      },
      "execution_count": null,
      "outputs": []
    },
    {
      "cell_type": "code",
      "source": [
        "ax = plt.subplot(1, 3, 1)\n",
        "plt.imshow(test_data[0].reshape(28, 28),)\n",
        "ax.get_xaxis().set_visible(False)\n",
        "ax.get_yaxis().set_visible(False)\n",
        "ax = plt.subplot(1, 3, 2)\n",
        "plt.imshow(noisy_test_data[0].reshape(28, 28))\n",
        "ax.get_xaxis().set_visible(False)\n",
        "ax.get_yaxis().set_visible(False)\n",
        "ax = plt.subplot(1, 3, 3)\n",
        "plt.imshow(diff.reshape(28, 28))\n",
        "ax.get_xaxis().set_visible(False)\n",
        "ax.get_yaxis().set_visible(False)"
      ],
      "metadata": {
        "colab": {
          "base_uri": "https://localhost:8080/",
          "height": 133
        },
        "id": "EMAoXjqbCS-I",
        "outputId": "f5924578-6e31-445e-fb95-ee282d2a7365"
      },
      "execution_count": null,
      "outputs": [
        {
          "output_type": "display_data",
          "data": {
            "text/plain": [
              "<Figure size 432x288 with 3 Axes>"
            ],
            "image/png": "[encoded data removed]"
          },
          "metadata": {
            "needs_background": "light"
          }
        }
      ]
    },
    {
      "cell_type": "code",
      "source": [
        "threshold = np.mean(mean_loss) - 2*np.std(mean_loss)\n",
        "#threshold = 0.03\n",
        "print(\"Umbral: \", threshold)"
      ],
      "metadata": {
        "colab": {
          "base_uri": "https://localhost:8080/"
        },
        "id": "ofkn5wMyEUm3",
        "outputId": "d58d9ae7-d88f-4917-aa22-74dff5953eb5"
      },
      "execution_count": null,
      "outputs": [
        {
          "output_type": "stream",
          "name": "stdout",
          "text": [
            "Umbral:  0.06048318278044462\n"
          ]
        }
      ]
    },
    {
      "cell_type": "code",
      "source": [
        "reconstructions = autoencoder.predict(noisy_test_data)\n",
        "loss = tf.keras.losses.mae(reconstructions, test_data)\n",
        "loss = np.mean(np.mean(loss.numpy(),axis=2),axis=1)\n",
        "predictions= tf.math.greater(loss, threshold)"
      ],
      "metadata": {
        "id": "SUO9Iz5OIZDo"
      },
      "execution_count": null,
      "outputs": []
    },
    {
      "cell_type": "code",
      "source": [
        "labels_anom = np.ones(100)\n",
        "labels_norm = np.zeros(100)\n",
        "labels = np.hstack((labels_anom,labels_norm))\n",
        "labels.shape"
      ],
      "metadata": {
        "colab": {
          "base_uri": "https://localhost:8080/"
        },
        "id": "ivV8pEYQLWkA",
        "outputId": "752f59fc-1a4c-4126-c7f9-d8c90ce79669"
      },
      "execution_count": null,
      "outputs": [
        {
          "output_type": "execute_result",
          "data": {
            "text/plain": [
              "(200,)"
            ]
          },
          "metadata": {},
          "execution_count": 109
        }
      ]
    },
    {
      "cell_type": "code",
      "source": [
        "print(\"Accuracy = {}\".format(accuracy_score(np.ones(10000), predictions)))\n",
        "print(\"Precision = {}\".format(precision_score(np.ones(10000), predictions)))\n",
        "print(\"Recall = {}\".format(recall_score(np.ones(10000), predictions)))"
      ],
      "metadata": {
        "colab": {
          "base_uri": "https://localhost:8080/"
        },
        "id": "Q1z5tXoUIQ8I",
        "outputId": "1b6b50b6-83aa-4a41-e685-f107960f2bbf"
      },
      "execution_count": null,
      "outputs": [
        {
          "output_type": "stream",
          "name": "stdout",
          "text": [
            "Accuracy = 0.9752\n",
            "Precision = 1.0\n",
            "Recall = 0.9752\n"
          ]
        }
      ]
    },
    {
      "cell_type": "markdown",
      "source": [
        "#SERIE TIEMPO EN VENTAS"
      ],
      "metadata": {
        "id": "yE0UHARnQFUb"
      }
    },
    {
      "cell_type": "code",
      "source": [
        "from math import sqrt\n",
        "from numpy import array,mean,std\n",
        "import pandas as pd\n",
        "from sklearn.metrics import mean_squared_error\n",
        "import matplotlib.pyplot as plt\n",
        "from tensorflow.keras import Sequential\n",
        "from tensorflow.keras.layers import Dense, Conv1D, MaxPooling1D, Flatten, LSTM,TimeDistributed\n"
      ],
      "metadata": {
        "id": "uZQG0I12QD87"
      },
      "execution_count": null,
      "outputs": []
    },
    {
      "cell_type": "code",
      "source": [
        "url='https://github.com/jbrownlee/Datasets/blob/d20fcb6402ae34e653d4513b00f39257bb37ed7f/monthly-car-sales.csv?raw=true'\n",
        "serie = pd.read_csv(url, header=0,index_col=0)"
      ],
      "metadata": {
        "id": "T8XsGCrCQOUt"
      },
      "execution_count": null,
      "outputs": []
    },
    {
      "cell_type": "code",
      "source": [
        "plt.figure(figsize=(10,10))\n",
        "plt.plot(serie)\n",
        "plt.show()"
      ],
      "metadata": {
        "colab": {
          "base_uri": "https://localhost:8080/",
          "height": 592
        },
        "id": "Nyr-FeD0QSGz",
        "outputId": "f271f155-4db6-42b7-fa26-ca5daa7b6447"
      },
      "execution_count": null,
      "outputs": [
        {
          "output_type": "display_data",
          "data": {
            "text/plain": [
              "<Figure size 720x720 with 1 Axes>"
            ],
            "image/png": "[encoded data removed]"
          },
          "metadata": {
            "needs_background": "light"
          }
        }
      ]
    },
    {
      "cell_type": "code",
      "source": [
        "data = serie.values\n",
        "n_test = 12\n",
        "train, test=data[:-n_test], data[-n_test:]"
      ],
      "metadata": {
        "id": "6rgleghcQUd_"
      },
      "execution_count": null,
      "outputs": []
    },
    {
      "cell_type": "code",
      "source": [
        "def series_to_supervised(data, n_in, n_out=1):\n",
        "  df = pd.DataFrame(data)\n",
        "  cols = list()\n",
        "  # serie de entrada: (t-n, ... t-1)\n",
        "  for i in range(n_in, 0, -1):\n",
        "    cols.append(df.shift(i))\n",
        "  # serie de predicción: (t, t+1, ... t+n)\n",
        "  for i in range(0, n_out):\n",
        "    cols.append(df.shift(-i))\n",
        "  # concatenar datos\n",
        "  agg = pd.concat(cols, axis=1)\n",
        "  # quitar valores vacíos\n",
        "  agg.dropna(inplace=True)\n",
        "  return agg.values"
      ],
      "metadata": {
        "id": "GSKdqh47QYXp"
      },
      "execution_count": null,
      "outputs": []
    },
    {
      "cell_type": "code",
      "source": [
        "train_x, train_y = train_data[:, :-1], train_data[:, -1]"
      ],
      "metadata": {
        "id": "b5P6yrjEQbJ8"
      },
      "execution_count": null,
      "outputs": []
    },
    {
      "cell_type": "code",
      "source": [
        "def model_predict(model, input_test, n_input):\n",
        "  x_input = np.array(input_test[-n_input:]).reshape((1, n_input, 1))\n",
        "  yhat = model.predict(x_input, verbose=0)\n",
        "  return yhat[0]"
      ],
      "metadata": {
        "id": "Z2B2ufxtaVn0"
      },
      "execution_count": null,
      "outputs": []
    },
    {
      "cell_type": "code",
      "source": [
        "n_test = 12\n",
        "train, test=data[:-n_test], data[-n_test:]"
      ],
      "metadata": {
        "id": "oaF0ZJZBaEkH"
      },
      "execution_count": null,
      "outputs": []
    },
    {
      "cell_type": "code",
      "source": [
        "n_input, n_filters, n_kernel, n_epochs, n_batch=[36, 256, 3, 100, 100]"
      ],
      "metadata": {
        "id": "EU5MxzZcaJTb"
      },
      "execution_count": null,
      "outputs": []
    },
    {
      "cell_type": "code",
      "source": [
        "train_data=series_to_supervised(train, n_input)\n",
        "train_x, train_y = train_data[:, :-1], train_data[:, -1]"
      ],
      "metadata": {
        "id": "BQkZ2VCIaLdx"
      },
      "execution_count": null,
      "outputs": []
    },
    {
      "cell_type": "code",
      "source": [
        "train_x = train_x.reshape((train_x.shape[0], train_x.shape[1], 1))"
      ],
      "metadata": {
        "id": "Bq3f6h59aOWD"
      },
      "execution_count": null,
      "outputs": []
    },
    {
      "cell_type": "code",
      "source": [
        "model = Sequential()\n",
        "model.add(Conv1D(n_input, n_kernel, activation='relu', input_shape=(n_input, 1)))\n",
        "model.add(Conv1D(n_input, n_kernel, activation='relu'))\n",
        "model.add(Conv1D(n_input, n_kernel, activation='relu'))\n",
        "model.add(Conv1D(n_input, n_kernel, activation='relu'))\n",
        "model.add(MaxPooling1D())\n",
        "model.add(Flatten())\n",
        "model.add(Dense(256))\n",
        "model.add(Dense(64))\n",
        "model.add(Dense(1))\n",
        "model.compile(loss='mse', optimizer='adam')\n",
        "model.summary()"
      ],
      "metadata": {
        "colab": {
          "base_uri": "https://localhost:8080/"
        },
        "id": "c5qSnYLsaQIW",
        "outputId": "ec3c3e2b-d666-484f-a4ee-9ee7997c6ac5"
      },
      "execution_count": null,
      "outputs": [
        {
          "output_type": "stream",
          "name": "stdout",
          "text": [
            "Model: \"sequential_78\"\n",
            "_________________________________________________________________\n",
            " Layer (type)                Output Shape              Param #   \n",
            "=================================================================\n",
            " conv1d_132 (Conv1D)         (None, 34, 36)            144       \n",
            "                                                                 \n",
            " conv1d_133 (Conv1D)         (None, 32, 36)            3924      \n",
            "                                                                 \n",
            " conv1d_134 (Conv1D)         (None, 30, 36)            3924      \n",
            "                                                                 \n",
            " conv1d_135 (Conv1D)         (None, 28, 36)            3924      \n",
            "                                                                 \n",
            " max_pooling1d_48 (MaxPoolin  (None, 14, 36)           0         \n",
            " g1D)                                                            \n",
            "                                                                 \n",
            " flatten_41 (Flatten)        (None, 504)               0         \n",
            "                                                                 \n",
            " dense_127 (Dense)           (None, 256)               129280    \n",
            "                                                                 \n",
            " dense_128 (Dense)           (None, 64)                16448     \n",
            "                                                                 \n",
            " dense_129 (Dense)           (None, 1)                 65        \n",
            "                                                                 \n",
            "=================================================================\n",
            "Total params: 157,709\n",
            "Trainable params: 157,709\n",
            "Non-trainable params: 0\n",
            "_________________________________________________________________\n"
          ]
        }
      ]
    },
    {
      "cell_type": "code",
      "source": [
        "model = Sequential()\n",
        "model.add(Conv1D(64, n_kernel, activation='relu', input_shape=(n_input, 1)))\n",
        "model.add(Conv1D(64, n_kernel, activation='relu'))\n",
        "model.add(MaxPooling1D())\n",
        "model.add(Flatten())\n",
        "model.add(Dense(256))\n",
        "model.add(Dense(1))\n",
        "model.compile(loss='mse', optimizer='Adamax')\n",
        "model.summary()"
      ],
      "metadata": {
        "colab": {
          "base_uri": "https://localhost:8080/"
        },
        "id": "vWpUcxsegZ0-",
        "outputId": "76d3ffa3-d32b-405d-9ea5-3a71a8f162f7"
      },
      "execution_count": null,
      "outputs": [
        {
          "output_type": "stream",
          "name": "stdout",
          "text": [
            "Model: \"sequential_93\"\n",
            "_________________________________________________________________\n",
            " Layer (type)                Output Shape              Param #   \n",
            "=================================================================\n",
            " conv1d_165 (Conv1D)         (None, 34, 64)            256       \n",
            "                                                                 \n",
            " conv1d_166 (Conv1D)         (None, 32, 64)            12352     \n",
            "                                                                 \n",
            " max_pooling1d_64 (MaxPoolin  (None, 16, 64)           0         \n",
            " g1D)                                                            \n",
            "                                                                 \n",
            " flatten_56 (Flatten)        (None, 1024)              0         \n",
            "                                                                 \n",
            " dense_158 (Dense)           (None, 256)               262400    \n",
            "                                                                 \n",
            " dense_159 (Dense)           (None, 1)                 257       \n",
            "                                                                 \n",
            "=================================================================\n",
            "Total params: 275,265\n",
            "Trainable params: 275,265\n",
            "Non-trainable params: 0\n",
            "_________________________________________________________________\n"
          ]
        }
      ]
    },
    {
      "cell_type": "code",
      "source": [
        "model.fit(train_x, train_y, epochs=n_epochs, batch_size=n_batch)"
      ],
      "metadata": {
        "colab": {
          "base_uri": "https://localhost:8080/"
        },
        "id": "7sw3LWUUaSaq",
        "outputId": "c7152cc8-cb5f-48cf-956d-2f41535eeded"
      },
      "execution_count": null,
      "outputs": [
        {
          "output_type": "stream",
          "name": "stdout",
          "text": [
            "Epoch 1/100\n",
            "1/1 [==============================] - 0s 395ms/step - loss: 368726080.0000\n",
            "Epoch 2/100\n",
            "1/1 [==============================] - 0s 13ms/step - loss: 19851848.0000\n",
            "Epoch 3/100\n",
            "1/1 [==============================] - 0s 10ms/step - loss: 105014736.0000\n",
            "Epoch 4/100\n",
            "1/1 [==============================] - 0s 12ms/step - loss: 108179408.0000\n",
            "Epoch 5/100\n",
            "1/1 [==============================] - 0s 8ms/step - loss: 56128968.0000\n",
            "Epoch 6/100\n",
            "1/1 [==============================] - 0s 8ms/step - loss: 23217898.0000\n",
            "Epoch 7/100\n",
            "1/1 [==============================] - 0s 11ms/step - loss: 17520740.0000\n",
            "Epoch 8/100\n",
            "1/1 [==============================] - 0s 9ms/step - loss: 24773058.0000\n",
            "Epoch 9/100\n",
            "1/1 [==============================] - 0s 9ms/step - loss: 33634296.0000\n",
            "Epoch 10/100\n",
            "1/1 [==============================] - 0s 8ms/step - loss: 38998420.0000\n",
            "Epoch 11/100\n",
            "1/1 [==============================] - 0s 10ms/step - loss: 39724232.0000\n",
            "Epoch 12/100\n",
            "1/1 [==============================] - 0s 9ms/step - loss: 36626576.0000\n",
            "Epoch 13/100\n",
            "1/1 [==============================] - 0s 8ms/step - loss: 31253664.0000\n",
            "Epoch 14/100\n",
            "1/1 [==============================] - 0s 11ms/step - loss: 25282036.0000\n",
            "Epoch 15/100\n",
            "1/1 [==============================] - 0s 8ms/step - loss: 20111100.0000\n",
            "Epoch 16/100\n",
            "1/1 [==============================] - 0s 11ms/step - loss: 16644139.0000\n",
            "Epoch 17/100\n",
            "1/1 [==============================] - 0s 7ms/step - loss: 15195657.0000\n",
            "Epoch 18/100\n",
            "1/1 [==============================] - 0s 10ms/step - loss: 15504762.0000\n",
            "Epoch 19/100\n",
            "1/1 [==============================] - 0s 9ms/step - loss: 16893862.0000\n",
            "Epoch 20/100\n",
            "1/1 [==============================] - 0s 12ms/step - loss: 18520770.0000\n",
            "Epoch 21/100\n",
            "1/1 [==============================] - 0s 8ms/step - loss: 19651930.0000\n",
            "Epoch 22/100\n",
            "1/1 [==============================] - 0s 7ms/step - loss: 19871540.0000\n",
            "Epoch 23/100\n",
            "1/1 [==============================] - 0s 8ms/step - loss: 19140600.0000\n",
            "Epoch 24/100\n",
            "1/1 [==============================] - 0s 7ms/step - loss: 17721758.0000\n",
            "Epoch 25/100\n",
            "1/1 [==============================] - 0s 16ms/step - loss: 16021987.0000\n",
            "Epoch 26/100\n",
            "1/1 [==============================] - 0s 18ms/step - loss: 14436689.0000\n",
            "Epoch 27/100\n",
            "1/1 [==============================] - 0s 10ms/step - loss: 13231594.0000\n",
            "Epoch 28/100\n",
            "1/1 [==============================] - 0s 9ms/step - loss: 12511958.0000\n",
            "Epoch 29/100\n",
            "1/1 [==============================] - 0s 13ms/step - loss: 12238571.0000\n",
            "Epoch 30/100\n",
            "1/1 [==============================] - 0s 13ms/step - loss: 12273626.0000\n",
            "Epoch 31/100\n",
            "1/1 [==============================] - 0s 10ms/step - loss: 12438353.0000\n",
            "Epoch 32/100\n",
            "1/1 [==============================] - 0s 11ms/step - loss: 12567162.0000\n",
            "Epoch 33/100\n",
            "1/1 [==============================] - 0s 10ms/step - loss: 12542505.0000\n",
            "Epoch 34/100\n",
            "1/1 [==============================] - 0s 8ms/step - loss: 12303285.0000\n",
            "Epoch 35/100\n",
            "1/1 [==============================] - 0s 11ms/step - loss: 11851779.0000\n",
            "Epoch 36/100\n",
            "1/1 [==============================] - 0s 9ms/step - loss: 11234155.0000\n",
            "Epoch 37/100\n",
            "1/1 [==============================] - 0s 10ms/step - loss: 10535767.0000\n",
            "Epoch 38/100\n",
            "1/1 [==============================] - 0s 12ms/step - loss: 9837809.0000\n",
            "Epoch 39/100\n",
            "1/1 [==============================] - 0s 8ms/step - loss: 9219869.0000\n",
            "Epoch 40/100\n",
            "1/1 [==============================] - 0s 10ms/step - loss: 8736629.0000\n",
            "Epoch 41/100\n",
            "1/1 [==============================] - 0s 8ms/step - loss: 8419962.0000\n",
            "Epoch 42/100\n",
            "1/1 [==============================] - 0s 9ms/step - loss: 8245628.5000\n",
            "Epoch 43/100\n",
            "1/1 [==============================] - 0s 9ms/step - loss: 8138888.5000\n",
            "Epoch 44/100\n",
            "1/1 [==============================] - 0s 12ms/step - loss: 8039053.0000\n",
            "Epoch 45/100\n",
            "1/1 [==============================] - 0s 11ms/step - loss: 7889483.5000\n",
            "Epoch 46/100\n",
            "1/1 [==============================] - 0s 8ms/step - loss: 7634505.5000\n",
            "Epoch 47/100\n",
            "1/1 [==============================] - 0s 8ms/step - loss: 7273065.5000\n",
            "Epoch 48/100\n",
            "1/1 [==============================] - 0s 8ms/step - loss: 6854811.0000\n",
            "Epoch 49/100\n",
            "1/1 [==============================] - 0s 9ms/step - loss: 6443081.5000\n",
            "Epoch 50/100\n",
            "1/1 [==============================] - 0s 7ms/step - loss: 6091794.0000\n",
            "Epoch 51/100\n",
            "1/1 [==============================] - 0s 9ms/step - loss: 5828811.5000\n",
            "Epoch 52/100\n",
            "1/1 [==============================] - 0s 9ms/step - loss: 5637753.0000\n",
            "Epoch 53/100\n",
            "1/1 [==============================] - 0s 8ms/step - loss: 5492146.0000\n",
            "Epoch 54/100\n",
            "1/1 [==============================] - 0s 9ms/step - loss: 5358489.5000\n",
            "Epoch 55/100\n",
            "1/1 [==============================] - 0s 8ms/step - loss: 5208778.5000\n",
            "Epoch 56/100\n",
            "1/1 [==============================] - 0s 8ms/step - loss: 5028393.0000\n",
            "Epoch 57/100\n",
            "1/1 [==============================] - 0s 10ms/step - loss: 4818889.5000\n",
            "Epoch 58/100\n",
            "1/1 [==============================] - 0s 8ms/step - loss: 4595649.0000\n",
            "Epoch 59/100\n",
            "1/1 [==============================] - 0s 8ms/step - loss: 4383260.5000\n",
            "Epoch 60/100\n",
            "1/1 [==============================] - 0s 11ms/step - loss: 4199157.5000\n",
            "Epoch 61/100\n",
            "1/1 [==============================] - 0s 9ms/step - loss: 4054268.5000\n",
            "Epoch 62/100\n",
            "1/1 [==============================] - 0s 11ms/step - loss: 3949880.7500\n",
            "Epoch 63/100\n",
            "1/1 [==============================] - 0s 9ms/step - loss: 3869976.5000\n",
            "Epoch 64/100\n",
            "1/1 [==============================] - 0s 9ms/step - loss: 3795756.7500\n",
            "Epoch 65/100\n",
            "1/1 [==============================] - 0s 11ms/step - loss: 3712724.7500\n",
            "Epoch 66/100\n",
            "1/1 [==============================] - 0s 7ms/step - loss: 3616745.2500\n",
            "Epoch 67/100\n",
            "1/1 [==============================] - 0s 12ms/step - loss: 3515440.5000\n",
            "Epoch 68/100\n",
            "1/1 [==============================] - 0s 12ms/step - loss: 3420744.7500\n",
            "Epoch 69/100\n",
            "1/1 [==============================] - 0s 11ms/step - loss: 3340944.2500\n",
            "Epoch 70/100\n",
            "1/1 [==============================] - 0s 10ms/step - loss: 3280785.7500\n",
            "Epoch 71/100\n",
            "1/1 [==============================] - 0s 12ms/step - loss: 3239018.5000\n",
            "Epoch 72/100\n",
            "1/1 [==============================] - 0s 10ms/step - loss: 3208919.0000\n",
            "Epoch 73/100\n",
            "1/1 [==============================] - 0s 8ms/step - loss: 3182658.7500\n",
            "Epoch 74/100\n",
            "1/1 [==============================] - 0s 12ms/step - loss: 3154076.7500\n",
            "Epoch 75/100\n",
            "1/1 [==============================] - 0s 16ms/step - loss: 3121586.7500\n",
            "Epoch 76/100\n",
            "1/1 [==============================] - 0s 8ms/step - loss: 3087251.0000\n",
            "Epoch 77/100\n",
            "1/1 [==============================] - 0s 10ms/step - loss: 3055048.0000\n",
            "Epoch 78/100\n",
            "1/1 [==============================] - 0s 8ms/step - loss: 3029335.2500\n",
            "Epoch 79/100\n",
            "1/1 [==============================] - 0s 11ms/step - loss: 3011278.7500\n",
            "Epoch 80/100\n",
            "1/1 [==============================] - 0s 10ms/step - loss: 2999698.7500\n",
            "Epoch 81/100\n",
            "1/1 [==============================] - 0s 8ms/step - loss: 2991168.5000\n",
            "Epoch 82/100\n",
            "1/1 [==============================] - 0s 9ms/step - loss: 2982620.0000\n",
            "Epoch 83/100\n",
            "1/1 [==============================] - 0s 9ms/step - loss: 2971787.0000\n",
            "Epoch 84/100\n",
            "1/1 [==============================] - 0s 8ms/step - loss: 2958276.7500\n",
            "Epoch 85/100\n",
            "1/1 [==============================] - 0s 11ms/step - loss: 2943288.2500\n",
            "Epoch 86/100\n",
            "1/1 [==============================] - 0s 7ms/step - loss: 2928641.0000\n",
            "Epoch 87/100\n",
            "1/1 [==============================] - 0s 7ms/step - loss: 2915845.7500\n",
            "Epoch 88/100\n",
            "1/1 [==============================] - 0s 8ms/step - loss: 2905263.0000\n",
            "Epoch 89/100\n",
            "1/1 [==============================] - 0s 8ms/step - loss: 2896139.7500\n",
            "Epoch 90/100\n",
            "1/1 [==============================] - 0s 8ms/step - loss: 2887152.2500\n",
            "Epoch 91/100\n",
            "1/1 [==============================] - 0s 8ms/step - loss: 2877109.2500\n",
            "Epoch 92/100\n",
            "1/1 [==============================] - 0s 8ms/step - loss: 2865435.2500\n",
            "Epoch 93/100\n",
            "1/1 [==============================] - 0s 8ms/step - loss: 2852704.5000\n",
            "Epoch 94/100\n",
            "1/1 [==============================] - 0s 8ms/step - loss: 2839510.2500\n",
            "Epoch 95/100\n",
            "1/1 [==============================] - 0s 10ms/step - loss: 2826553.0000\n",
            "Epoch 96/100\n",
            "1/1 [==============================] - 0s 6ms/step - loss: 2814373.2500\n",
            "Epoch 97/100\n",
            "1/1 [==============================] - 0s 11ms/step - loss: 2803058.7500\n",
            "Epoch 98/100\n",
            "1/1 [==============================] - 0s 10ms/step - loss: 2792330.7500\n",
            "Epoch 99/100\n",
            "1/1 [==============================] - 0s 8ms/step - loss: 2781680.5000\n",
            "Epoch 100/100\n",
            "1/1 [==============================] - 0s 9ms/step - loss: 2770675.2500\n"
          ]
        },
        {
          "output_type": "execute_result",
          "data": {
            "text/plain": [
              "<keras.callbacks.History at 0x7fb812172290>"
            ]
          },
          "metadata": {},
          "execution_count": 521
        }
      ]
    },
    {
      "cell_type": "code",
      "source": [
        "input_test = [x for x in train]\n",
        "predictions=[]\n",
        "for i in range(len(test)):\n",
        "  yhat =  model_predict(model, input_test, n_input)\n",
        "  predictions.append(yhat)\n",
        "  input_test.append(test[i])\n",
        "\n",
        "error = sqrt(mean_squared_error(test, predictions))\n",
        "print('%.3f RMSE' % error)"
      ],
      "metadata": {
        "colab": {
          "base_uri": "https://localhost:8080/"
        },
        "id": "41F1xsBYadAi",
        "outputId": "52f20c9c-2fe0-492b-b1ac-c2815e4c6b89"
      },
      "execution_count": null,
      "outputs": [
        {
          "output_type": "stream",
          "name": "stdout",
          "text": [
            "1595.199 RMSE\n"
          ]
        }
      ]
    },
    {
      "cell_type": "code",
      "source": [
        "plt.figure(figsize=(20, 10))\n",
        "plt.plot(test, label='y_test',linewidth=1)\n",
        "plt.plot(predictions, label='y_predicted',linewidth=1)\n",
        "plt.legend(loc='upper left')\n",
        "plt.show()"
      ],
      "metadata": {
        "colab": {
          "base_uri": "https://localhost:8080/",
          "height": 592
        },
        "id": "yo5paBFbanZy",
        "outputId": "519cd520-2b21-49d1-c729-cea13637ae31"
      },
      "execution_count": null,
      "outputs": [
        {
          "output_type": "display_data",
          "data": {
            "text/plain": [
              "<Figure size 1440x720 with 1 Axes>"
            ],
            "image/png": "[encoded data removed]"
          },
          "metadata": {
            "needs_background": "light"
          }
        }
      ]
    },
    {
      "cell_type": "code",
      "source": [
        "# Para la diferencia por año, n_diff=12\n",
        "def difference(data, n_diff):\n",
        "  return [data[i] - data[i - n_diff] for i in range(n_diff, len(data))]"
      ],
      "metadata": {
        "id": "El4bWCLbRElU"
      },
      "execution_count": null,
      "outputs": []
    },
    {
      "cell_type": "code",
      "source": [
        "def model_predict(model, history, n_input):\n",
        "  # preparar datos\n",
        "  correction = 0.0\n",
        "  if n_diff > 0:\n",
        "    correction = history[-n_diff]\n",
        "    history = difference(history, n_diff)\n",
        "  x_input = array(history[-n_input:]).reshape((1, n_input, 1))\n",
        "  # forecast\n",
        "  yhat = model.predict(x_input, verbose=0)\n",
        "  return correction + yhat[0]"
      ],
      "metadata": {
        "id": "tPZ8Uf0mRS4C"
      },
      "execution_count": null,
      "outputs": []
    },
    {
      "cell_type": "code",
      "source": [
        "n_input, n_nodes, n_epochs, n_batch, n_diff, n_features, n_seq = [12, 40, 100, 100, 12, 1, 1]"
      ],
      "metadata": {
        "id": "elGFo6znRGlr"
      },
      "execution_count": null,
      "outputs": []
    },
    {
      "cell_type": "code",
      "source": [
        "if n_diff > 0:\n",
        "  train = difference(train, n_diff)\n",
        "data = series_to_supervised(train, n_input)\n",
        "train_x, train_y = data[:, :-1], data[:, -1]\n",
        "train_x = train_x.reshape((train_x.shape[0], train_x.shape[1], 1))\n",
        "#train_x = train_x.reshape((train_x.shape[0], n_seq, n_diff, n_features))"
      ],
      "metadata": {
        "id": "ug8xShQ6RIZg"
      },
      "execution_count": null,
      "outputs": []
    },
    {
      "cell_type": "code",
      "source": [
        "model = Sequential()\n",
        "\n",
        "# model.add(TimeDistributed(Conv1D(64, 1, activation='relu'), input_shape=(None, n_diff,n_features)))\n",
        "# model.add(TimeDistributed(MaxPooling1D()))\n",
        "# model.add(TimeDistributed(Flatten()))\n",
        "# model.add(LSTM(n_nodes, activation='relu'))\n",
        "# model.add(Dense(1))\n",
        "\n",
        "\n",
        "model.add(LSTM(150, activation='relu', input_shape=(n_input, 1),return_sequences=True))\n",
        "model.add(LSTM(100, activation='relu'))\n",
        "\n",
        "model.add(Dense(1))\n",
        "model.compile(loss='mse', optimizer='adam')\n",
        "model.summary()"
      ],
      "metadata": {
        "colab": {
          "base_uri": "https://localhost:8080/"
        },
        "id": "sYolCqu9RKfl",
        "outputId": "e7992b2d-ee73-4b94-af34-c7fdd2e01cb6"
      },
      "execution_count": null,
      "outputs": [
        {
          "output_type": "stream",
          "name": "stdout",
          "text": [
            "WARNING:tensorflow:Layer lstm_46 will not use cuDNN kernels since it doesn't meet the criteria. It will use a generic GPU kernel as fallback when running on GPU.\n"
          ]
        },
        {
          "output_type": "stream",
          "name": "stderr",
          "text": [
            "WARNING:tensorflow:Layer lstm_46 will not use cuDNN kernels since it doesn't meet the criteria. It will use a generic GPU kernel as fallback when running on GPU.\n"
          ]
        },
        {
          "output_type": "stream",
          "name": "stdout",
          "text": [
            "WARNING:tensorflow:Layer lstm_47 will not use cuDNN kernels since it doesn't meet the criteria. It will use a generic GPU kernel as fallback when running on GPU.\n"
          ]
        },
        {
          "output_type": "stream",
          "name": "stderr",
          "text": [
            "WARNING:tensorflow:Layer lstm_47 will not use cuDNN kernels since it doesn't meet the criteria. It will use a generic GPU kernel as fallback when running on GPU.\n"
          ]
        },
        {
          "output_type": "stream",
          "name": "stdout",
          "text": [
            "Model: \"sequential_58\"\n",
            "_________________________________________________________________\n",
            " Layer (type)                Output Shape              Param #   \n",
            "=================================================================\n",
            " lstm_46 (LSTM)              (None, 36, 150)           91200     \n",
            "                                                                 \n",
            " lstm_47 (LSTM)              (None, 100)               100400    \n",
            "                                                                 \n",
            " dense_85 (Dense)            (None, 1)                 101       \n",
            "                                                                 \n",
            "=================================================================\n",
            "Total params: 191,701\n",
            "Trainable params: 191,701\n",
            "Non-trainable params: 0\n",
            "_________________________________________________________________\n"
          ]
        }
      ]
    },
    {
      "cell_type": "code",
      "source": [
        "model.fit(train_x, train_y, epochs=n_epochs, batch_size=n_batch)"
      ],
      "metadata": {
        "colab": {
          "base_uri": "https://localhost:8080/"
        },
        "id": "Rv_YJLGiRMgp",
        "outputId": "70875851-b592-44ba-cc22-a948d6f6e6e6"
      },
      "execution_count": null,
      "outputs": [
        {
          "output_type": "stream",
          "name": "stdout",
          "text": [
            "Epoch 1/100\n",
            "1/1 [==============================] - 2s 2s/step - loss: 1557285504.0000\n",
            "Epoch 2/100\n",
            "1/1 [==============================] - 0s 53ms/step - loss: 1543045632.0000\n",
            "Epoch 3/100\n",
            "1/1 [==============================] - 0s 48ms/step - loss: 1544198656.0000\n",
            "Epoch 4/100\n",
            "1/1 [==============================] - 0s 47ms/step - loss: 1567538816.0000\n",
            "Epoch 5/100\n",
            "1/1 [==============================] - 0s 56ms/step - loss: 1543872128.0000\n",
            "Epoch 6/100\n",
            "1/1 [==============================] - 0s 47ms/step - loss: 1526950272.0000\n",
            "Epoch 7/100\n",
            "1/1 [==============================] - 0s 45ms/step - loss: 1539434880.0000\n",
            "Epoch 8/100\n",
            "1/1 [==============================] - 0s 43ms/step - loss: 1527050880.0000\n",
            "Epoch 9/100\n",
            "1/1 [==============================] - 0s 59ms/step - loss: 1508660224.0000\n",
            "Epoch 10/100\n",
            "1/1 [==============================] - 0s 46ms/step - loss: 1533192320.0000\n",
            "Epoch 11/100\n",
            "1/1 [==============================] - 0s 56ms/step - loss: 1497600000.0000\n",
            "Epoch 12/100\n",
            "1/1 [==============================] - 0s 58ms/step - loss: 1485682304.0000\n",
            "Epoch 13/100\n",
            "1/1 [==============================] - 0s 44ms/step - loss: 1493137024.0000\n",
            "Epoch 14/100\n",
            "1/1 [==============================] - 0s 58ms/step - loss: 1482773504.0000\n",
            "Epoch 15/100\n",
            "1/1 [==============================] - 0s 50ms/step - loss: 1451296256.0000\n",
            "Epoch 16/100\n",
            "1/1 [==============================] - 0s 58ms/step - loss: 1471024256.0000\n",
            "Epoch 17/100\n",
            "1/1 [==============================] - 0s 49ms/step - loss: 1444182656.0000\n",
            "Epoch 18/100\n",
            "1/1 [==============================] - 0s 49ms/step - loss: 1431090304.0000\n",
            "Epoch 19/100\n",
            "1/1 [==============================] - 0s 51ms/step - loss: 1395039872.0000\n",
            "Epoch 20/100\n",
            "1/1 [==============================] - 0s 46ms/step - loss: 1409145728.0000\n",
            "Epoch 21/100\n",
            "1/1 [==============================] - 0s 44ms/step - loss: 1392307072.0000\n",
            "Epoch 22/100\n",
            "1/1 [==============================] - 0s 50ms/step - loss: 1375243648.0000\n",
            "Epoch 23/100\n",
            "1/1 [==============================] - 0s 47ms/step - loss: 1402614656.0000\n",
            "Epoch 24/100\n",
            "1/1 [==============================] - 0s 45ms/step - loss: 1395309440.0000\n",
            "Epoch 25/100\n",
            "1/1 [==============================] - 0s 47ms/step - loss: 1383165568.0000\n",
            "Epoch 26/100\n",
            "1/1 [==============================] - 0s 45ms/step - loss: 1369131904.0000\n",
            "Epoch 27/100\n",
            "1/1 [==============================] - 0s 40ms/step - loss: 1330791808.0000\n",
            "Epoch 28/100\n",
            "1/1 [==============================] - 0s 52ms/step - loss: 1275140992.0000\n",
            "Epoch 29/100\n",
            "1/1 [==============================] - 0s 50ms/step - loss: 1282285952.0000\n",
            "Epoch 30/100\n",
            "1/1 [==============================] - 0s 46ms/step - loss: 1313862016.0000\n",
            "Epoch 31/100\n",
            "1/1 [==============================] - 0s 68ms/step - loss: 1268307072.0000\n",
            "Epoch 32/100\n",
            "1/1 [==============================] - 0s 47ms/step - loss: 1270844288.0000\n",
            "Epoch 33/100\n",
            "1/1 [==============================] - 0s 73ms/step - loss: 1251136000.0000\n",
            "Epoch 34/100\n",
            "1/1 [==============================] - 0s 56ms/step - loss: 1247935488.0000\n",
            "Epoch 35/100\n",
            "1/1 [==============================] - 0s 69ms/step - loss: 1252681728.0000\n",
            "Epoch 36/100\n",
            "1/1 [==============================] - 0s 51ms/step - loss: 1279862016.0000\n",
            "Epoch 37/100\n",
            "1/1 [==============================] - 0s 53ms/step - loss: 1219670400.0000\n",
            "Epoch 38/100\n",
            "1/1 [==============================] - 0s 47ms/step - loss: 1234495872.0000\n",
            "Epoch 39/100\n",
            "1/1 [==============================] - 0s 46ms/step - loss: 1270909440.0000\n",
            "Epoch 40/100\n",
            "1/1 [==============================] - 0s 51ms/step - loss: 1323074688.0000\n",
            "Epoch 41/100\n",
            "1/1 [==============================] - 0s 49ms/step - loss: 1257724800.0000\n",
            "Epoch 42/100\n",
            "1/1 [==============================] - 0s 62ms/step - loss: 1261883520.0000\n",
            "Epoch 43/100\n",
            "1/1 [==============================] - 0s 61ms/step - loss: 1256310272.0000\n",
            "Epoch 44/100\n",
            "1/1 [==============================] - 0s 47ms/step - loss: 1134534016.0000\n",
            "Epoch 45/100\n",
            "1/1 [==============================] - 0s 50ms/step - loss: 1268483072.0000\n",
            "Epoch 46/100\n",
            "1/1 [==============================] - 0s 60ms/step - loss: 1228250624.0000\n",
            "Epoch 47/100\n",
            "1/1 [==============================] - 0s 46ms/step - loss: 1245554176.0000\n",
            "Epoch 48/100\n",
            "1/1 [==============================] - 0s 54ms/step - loss: 1203988992.0000\n",
            "Epoch 49/100\n",
            "1/1 [==============================] - 0s 49ms/step - loss: 1223266816.0000\n",
            "Epoch 50/100\n",
            "1/1 [==============================] - 0s 51ms/step - loss: 1203780224.0000\n",
            "Epoch 51/100\n",
            "1/1 [==============================] - 0s 68ms/step - loss: 1170463104.0000\n",
            "Epoch 52/100\n",
            "1/1 [==============================] - 0s 53ms/step - loss: 1138653312.0000\n",
            "Epoch 53/100\n",
            "1/1 [==============================] - 0s 61ms/step - loss: 1121373824.0000\n",
            "Epoch 54/100\n",
            "1/1 [==============================] - 0s 55ms/step - loss: 1173721600.0000\n",
            "Epoch 55/100\n",
            "1/1 [==============================] - 0s 59ms/step - loss: 1084118144.0000\n",
            "Epoch 56/100\n",
            "1/1 [==============================] - 0s 62ms/step - loss: 1169699456.0000\n",
            "Epoch 57/100\n",
            "1/1 [==============================] - 0s 54ms/step - loss: 1078103680.0000\n",
            "Epoch 58/100\n",
            "1/1 [==============================] - 0s 56ms/step - loss: 1053968192.0000\n",
            "Epoch 59/100\n",
            "1/1 [==============================] - 0s 46ms/step - loss: 1046662400.0000\n",
            "Epoch 60/100\n",
            "1/1 [==============================] - 0s 47ms/step - loss: 1025929536.0000\n",
            "Epoch 61/100\n",
            "1/1 [==============================] - 0s 50ms/step - loss: 999402496.0000\n",
            "Epoch 62/100\n",
            "1/1 [==============================] - 0s 52ms/step - loss: 980626688.0000\n",
            "Epoch 63/100\n",
            "1/1 [==============================] - 0s 53ms/step - loss: 979039936.0000\n",
            "Epoch 64/100\n",
            "1/1 [==============================] - 0s 57ms/step - loss: 1061878784.0000\n",
            "Epoch 65/100\n",
            "1/1 [==============================] - 0s 61ms/step - loss: 1037426240.0000\n",
            "Epoch 66/100\n",
            "1/1 [==============================] - 0s 60ms/step - loss: 984911552.0000\n",
            "Epoch 67/100\n",
            "1/1 [==============================] - 0s 52ms/step - loss: 986892864.0000\n",
            "Epoch 68/100\n",
            "1/1 [==============================] - 0s 54ms/step - loss: 946846912.0000\n",
            "Epoch 69/100\n",
            "1/1 [==============================] - 0s 42ms/step - loss: 909704704.0000\n",
            "Epoch 70/100\n",
            "1/1 [==============================] - 0s 59ms/step - loss: 975235264.0000\n",
            "Epoch 71/100\n",
            "1/1 [==============================] - 0s 47ms/step - loss: 937396544.0000\n",
            "Epoch 72/100\n",
            "1/1 [==============================] - 0s 48ms/step - loss: 937464384.0000\n",
            "Epoch 73/100\n",
            "1/1 [==============================] - 0s 47ms/step - loss: 1024080384.0000\n",
            "Epoch 74/100\n",
            "1/1 [==============================] - 0s 49ms/step - loss: 907095808.0000\n",
            "Epoch 75/100\n",
            "1/1 [==============================] - 0s 44ms/step - loss: 887894848.0000\n",
            "Epoch 76/100\n",
            "1/1 [==============================] - 0s 72ms/step - loss: 895305024.0000\n",
            "Epoch 77/100\n",
            "1/1 [==============================] - 0s 60ms/step - loss: 939034816.0000\n",
            "Epoch 78/100\n",
            "1/1 [==============================] - 0s 45ms/step - loss: 1098218112.0000\n",
            "Epoch 79/100\n",
            "1/1 [==============================] - 0s 47ms/step - loss: 1103758208.0000\n",
            "Epoch 80/100\n",
            "1/1 [==============================] - 0s 49ms/step - loss: 1032750592.0000\n",
            "Epoch 81/100\n",
            "1/1 [==============================] - 0s 52ms/step - loss: 900399552.0000\n",
            "Epoch 82/100\n",
            "1/1 [==============================] - 0s 46ms/step - loss: 925673920.0000\n",
            "Epoch 83/100\n",
            "1/1 [==============================] - 0s 66ms/step - loss: 946090752.0000\n",
            "Epoch 84/100\n",
            "1/1 [==============================] - 0s 44ms/step - loss: 993556160.0000\n",
            "Epoch 85/100\n",
            "1/1 [==============================] - 0s 44ms/step - loss: 1114905344.0000\n",
            "Epoch 86/100\n",
            "1/1 [==============================] - 0s 44ms/step - loss: 949374144.0000\n",
            "Epoch 87/100\n",
            "1/1 [==============================] - 0s 44ms/step - loss: 1019006016.0000\n",
            "Epoch 88/100\n",
            "1/1 [==============================] - 0s 45ms/step - loss: 1038836992.0000\n",
            "Epoch 89/100\n",
            "1/1 [==============================] - 0s 73ms/step - loss: 1037584704.0000\n",
            "Epoch 90/100\n",
            "1/1 [==============================] - 0s 51ms/step - loss: 1138839424.0000\n",
            "Epoch 91/100\n",
            "1/1 [==============================] - 0s 61ms/step - loss: 896016064.0000\n",
            "Epoch 92/100\n",
            "1/1 [==============================] - 0s 50ms/step - loss: 876560448.0000\n",
            "Epoch 93/100\n",
            "1/1 [==============================] - 0s 44ms/step - loss: 829427648.0000\n",
            "Epoch 94/100\n",
            "1/1 [==============================] - 0s 47ms/step - loss: 900746560.0000\n",
            "Epoch 95/100\n",
            "1/1 [==============================] - 0s 46ms/step - loss: 908310720.0000\n",
            "Epoch 96/100\n",
            "1/1 [==============================] - 0s 45ms/step - loss: 942287360.0000\n",
            "Epoch 97/100\n",
            "1/1 [==============================] - 0s 50ms/step - loss: 927409664.0000\n",
            "Epoch 98/100\n",
            "1/1 [==============================] - 0s 44ms/step - loss: 984299712.0000\n",
            "Epoch 99/100\n",
            "1/1 [==============================] - 0s 44ms/step - loss: 982654720.0000\n",
            "Epoch 100/100\n",
            "1/1 [==============================] - 0s 44ms/step - loss: 1015480064.0000\n"
          ]
        },
        {
          "output_type": "execute_result",
          "data": {
            "text/plain": [
              "<keras.callbacks.History at 0x7fb8445bffd0>"
            ]
          },
          "metadata": {},
          "execution_count": 296
        }
      ]
    },
    {
      "cell_type": "code",
      "source": [
        "input_test = [x for x in train]\n",
        "predictions=[]\n",
        "for i in range(len(test)):\n",
        "  x_input = array(input_test[-n_input:]).reshape((1, n_input, 1))\n",
        "  yhat = model.predict(x_input, verbose=0)\n",
        "  predictions.append(yhat[0])\n",
        "  input_test.append(test[i])\n",
        "error = sqrt(mean_squared_error(test, predictions))\n",
        "print('%.3f RMSE' % error)"
      ],
      "metadata": {
        "colab": {
          "base_uri": "https://localhost:8080/"
        },
        "id": "TLTUqMkvRV4Z",
        "outputId": "d0acfe39-04c1-4f60-b598-fc5352c38a1f"
      },
      "execution_count": null,
      "outputs": [
        {
          "output_type": "stream",
          "name": "stdout",
          "text": [
            "14099.635 RMSE\n"
          ]
        }
      ]
    },
    {
      "cell_type": "code",
      "source": [
        "input_test = [x for x in train]\n",
        "predictions=[]\n",
        "for i in range(len(test)):\n",
        "  yhat =  model_predict(model, input_test, n_input)\n",
        "  predictions.append(yhat)\n",
        "  input_test.append(test[i])\n",
        "\n",
        "error = sqrt(mean_squared_error(test, predictions))\n",
        "print('%.3f RMSE' % error)"
      ],
      "metadata": {
        "colab": {
          "base_uri": "https://localhost:8080/"
        },
        "id": "7qk6jA3yRYC9",
        "outputId": "49bcbe18-cdc7-4773-88fc-0767b935009e"
      },
      "execution_count": null,
      "outputs": [
        {
          "output_type": "stream",
          "name": "stdout",
          "text": [
            "39885.607 RMSE\n"
          ]
        }
      ]
    },
    {
      "cell_type": "code",
      "source": [
        "plt.figure(figsize=(20, 10))\n",
        "plt.plot(test, label='y_test',linewidth=1)\n",
        "plt.plot(predictions, label='y_predicted',linewidth=1)\n",
        "plt.legend(loc='upper left')\n",
        "plt.show()"
      ],
      "metadata": {
        "colab": {
          "base_uri": "https://localhost:8080/",
          "height": 592
        },
        "id": "pSd1cLXFRcBK",
        "outputId": "e7e760ef-39d9-4f66-ddaa-17194fce8c68"
      },
      "execution_count": null,
      "outputs": [
        {
          "output_type": "display_data",
          "data": {
            "text/plain": [
              "<Figure size 1440x720 with 1 Axes>"
            ],
            "image/png": "[encoded data removed]"
          },
          "metadata": {
            "needs_background": "light"
          }
        }
      ]
    },
    {
      "cell_type": "code",
      "source": [],
      "metadata": {
        "id": "ONXk7dm7T3ln"
      },
      "execution_count": null,
      "outputs": []
    }
  ]
}